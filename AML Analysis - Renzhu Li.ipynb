{
 "cells": [
  {
   "cell_type": "markdown",
   "metadata": {},
   "source": [
    "# The Azerbaijani Laundromat - AML Analysis  \n",
    "#### Author: Renzhu Li"
   ]
  },
  {
   "cell_type": "markdown",
   "metadata": {},
   "source": [
    "## Step1: Clean the dataset\n",
    "\n",
    "- Converted column \"amount_eur\" from object to float\n",
    "- Converted column \"date\" from object to datetime"
   ]
  },
  {
   "cell_type": "code",
   "execution_count": 31,
   "metadata": {},
   "outputs": [
    {
     "data": {
      "text/html": [
       "<div>\n",
       "<style scoped>\n",
       "    .dataframe tbody tr th:only-of-type {\n",
       "        vertical-align: middle;\n",
       "    }\n",
       "\n",
       "    .dataframe tbody tr th {\n",
       "        vertical-align: top;\n",
       "    }\n",
       "\n",
       "    .dataframe thead th {\n",
       "        text-align: right;\n",
       "    }\n",
       "</style>\n",
       "<table border=\"1\" class=\"dataframe\">\n",
       "  <thead>\n",
       "    <tr style=\"text-align: right;\">\n",
       "      <th></th>\n",
       "      <th>Unnamed: 0</th>\n",
       "      <th>amount_eur</th>\n",
       "      <th>amount_orig</th>\n",
       "      <th>amount_orig_currency</th>\n",
       "      <th>amount_usd</th>\n",
       "      <th>beneficiary_account</th>\n",
       "      <th>beneficiary_bank_country</th>\n",
       "      <th>beneficiary_core</th>\n",
       "      <th>beneficiary_jurisdiction</th>\n",
       "      <th>beneficiary_name</th>\n",
       "      <th>...</th>\n",
       "      <th>investigation</th>\n",
       "      <th>payer_account</th>\n",
       "      <th>payer_bank_country</th>\n",
       "      <th>payer_core</th>\n",
       "      <th>payer_jurisdiction</th>\n",
       "      <th>payer_name</th>\n",
       "      <th>payer_name_norm</th>\n",
       "      <th>payer_type</th>\n",
       "      <th>purpose</th>\n",
       "      <th>source_file</th>\n",
       "    </tr>\n",
       "  </thead>\n",
       "  <tbody>\n",
       "    <tr>\n",
       "      <th>0</th>\n",
       "      <td>0</td>\n",
       "      <td>431762.31</td>\n",
       "      <td>535470.00</td>\n",
       "      <td>USD</td>\n",
       "      <td>535470.0</td>\n",
       "      <td>EE27 3300 3335 0561 0002</td>\n",
       "      <td>EE</td>\n",
       "      <td>True</td>\n",
       "      <td>GB</td>\n",
       "      <td>LCM ALLIANCE LLP</td>\n",
       "      <td>...</td>\n",
       "      <td>AZ</td>\n",
       "      <td>33817018409333311204</td>\n",
       "      <td>33</td>\n",
       "      <td>False</td>\n",
       "      <td>AZ</td>\n",
       "      <td>AZARBAYCAN METANOL KOMPANI MMC</td>\n",
       "      <td>AZARBAYCAN METANOL KOMPANI MMC</td>\n",
       "      <td>Company</td>\n",
       "      <td>1206295100052180 OCT4121800021 ADVANCE PAYM FO...</td>\n",
       "      <td>pdf/LCM ALLIANCE Account statement 30.06.12-31...</td>\n",
       "    </tr>\n",
       "    <tr>\n",
       "      <th>1</th>\n",
       "      <td>1</td>\n",
       "      <td>423688.44</td>\n",
       "      <td>535000.00</td>\n",
       "      <td>USD</td>\n",
       "      <td>535000.0</td>\n",
       "      <td>333504500003</td>\n",
       "      <td>33</td>\n",
       "      <td>False</td>\n",
       "      <td>GB</td>\n",
       "      <td>MOBILA LLP</td>\n",
       "      <td>...</td>\n",
       "      <td>AZ</td>\n",
       "      <td>EE27 3300 3335 0561 0002</td>\n",
       "      <td>EE</td>\n",
       "      <td>True</td>\n",
       "      <td>GB</td>\n",
       "      <td>LCM ALLIANCE LLP</td>\n",
       "      <td>LCM ALLIANCE LLP</td>\n",
       "      <td>Company</td>\n",
       "      <td>1207035026699176 INVOICE.No 6215 DD 25.05.2012</td>\n",
       "      <td>pdf/LCM ALLIANCE Account statement 30.06.12-31...</td>\n",
       "    </tr>\n",
       "    <tr>\n",
       "      <th>2</th>\n",
       "      <td>2</td>\n",
       "      <td>71698.53</td>\n",
       "      <td>90535.19</td>\n",
       "      <td>USD</td>\n",
       "      <td>90536.0</td>\n",
       "      <td>EE77 3300 3334 8704 0004</td>\n",
       "      <td>EE</td>\n",
       "      <td>True</td>\n",
       "      <td>GB</td>\n",
       "      <td>METASTAR INVEST LLP</td>\n",
       "      <td>...</td>\n",
       "      <td>AZ</td>\n",
       "      <td>20100374548222</td>\n",
       "      <td>20</td>\n",
       "      <td>False</td>\n",
       "      <td>GB</td>\n",
       "      <td>SKN ELECTRICAL SERVICES LIMITEDACCO</td>\n",
       "      <td>SKN ELECTRICAL SERVICES LIMITED</td>\n",
       "      <td>Company</td>\n",
       "      <td>1207065103089249   /FEE/USD4,81</td>\n",
       "      <td>pdf/METASTAR Account statement 30.06.12-31.12....</td>\n",
       "    </tr>\n",
       "    <tr>\n",
       "      <th>3</th>\n",
       "      <td>3</td>\n",
       "      <td>71686.50</td>\n",
       "      <td>90520.00</td>\n",
       "      <td>USD</td>\n",
       "      <td>90520.0</td>\n",
       "      <td>333455870002</td>\n",
       "      <td>33</td>\n",
       "      <td>False</td>\n",
       "      <td>VG</td>\n",
       "      <td>INMAXO CAPITAL CORP</td>\n",
       "      <td>...</td>\n",
       "      <td>AZ</td>\n",
       "      <td>EE77 3300 3334 8704 0004</td>\n",
       "      <td>EE</td>\n",
       "      <td>True</td>\n",
       "      <td>GB</td>\n",
       "      <td>METASTAR INVEST LLP</td>\n",
       "      <td>METASTAR INVEST LLP</td>\n",
       "      <td>Company</td>\n",
       "      <td>1207095022358525 DOGOVOR ZAYMA</td>\n",
       "      <td>pdf/METASTAR Account statement 30.06.12-31.12....</td>\n",
       "    </tr>\n",
       "    <tr>\n",
       "      <th>4</th>\n",
       "      <td>4</td>\n",
       "      <td>47.52</td>\n",
       "      <td>60.00</td>\n",
       "      <td>USD</td>\n",
       "      <td>60.0</td>\n",
       "      <td>333455870002</td>\n",
       "      <td>33</td>\n",
       "      <td>False</td>\n",
       "      <td>VG</td>\n",
       "      <td>INMAXO CAPITAL CORP</td>\n",
       "      <td>...</td>\n",
       "      <td>AZ</td>\n",
       "      <td>EE77 3300 3334 8704 0004</td>\n",
       "      <td>EE</td>\n",
       "      <td>True</td>\n",
       "      <td>GB</td>\n",
       "      <td>METASTAR INVEST LLP</td>\n",
       "      <td>METASTAR INVEST LLP</td>\n",
       "      <td>Company</td>\n",
       "      <td>1207135024578077 DOGOVOR ZAYMA</td>\n",
       "      <td>pdf/METASTAR Account statement 30.06.12-31.12....</td>\n",
       "    </tr>\n",
       "  </tbody>\n",
       "</table>\n",
       "<p>5 rows × 24 columns</p>\n",
       "</div>"
      ],
      "text/plain": [
       "   Unnamed: 0  amount_eur  amount_orig amount_orig_currency  amount_usd  \\\n",
       "0           0   431762.31    535470.00                  USD    535470.0   \n",
       "1           1   423688.44    535000.00                  USD    535000.0   \n",
       "2           2    71698.53     90535.19                  USD     90536.0   \n",
       "3           3    71686.50     90520.00                  USD     90520.0   \n",
       "4           4       47.52        60.00                  USD        60.0   \n",
       "\n",
       "        beneficiary_account beneficiary_bank_country  beneficiary_core  \\\n",
       "0  EE27 3300 3335 0561 0002                       EE              True   \n",
       "1              333504500003                       33             False   \n",
       "2  EE77 3300 3334 8704 0004                       EE              True   \n",
       "3              333455870002                       33             False   \n",
       "4              333455870002                       33             False   \n",
       "\n",
       "  beneficiary_jurisdiction     beneficiary_name  \\\n",
       "0                       GB     LCM ALLIANCE LLP   \n",
       "1                       GB           MOBILA LLP   \n",
       "2                       GB  METASTAR INVEST LLP   \n",
       "3                       VG  INMAXO CAPITAL CORP   \n",
       "4                       VG  INMAXO CAPITAL CORP   \n",
       "\n",
       "                         ...                         investigation  \\\n",
       "0                        ...                                    AZ   \n",
       "1                        ...                                    AZ   \n",
       "2                        ...                                    AZ   \n",
       "3                        ...                                    AZ   \n",
       "4                        ...                                    AZ   \n",
       "\n",
       "              payer_account payer_bank_country  payer_core payer_jurisdiction  \\\n",
       "0      33817018409333311204                 33       False                 AZ   \n",
       "1  EE27 3300 3335 0561 0002                 EE        True                 GB   \n",
       "2            20100374548222                 20       False                 GB   \n",
       "3  EE77 3300 3334 8704 0004                 EE        True                 GB   \n",
       "4  EE77 3300 3334 8704 0004                 EE        True                 GB   \n",
       "\n",
       "                            payer_name                  payer_name_norm  \\\n",
       "0       AZARBAYCAN METANOL KOMPANI MMC   AZARBAYCAN METANOL KOMPANI MMC   \n",
       "1                     LCM ALLIANCE LLP                 LCM ALLIANCE LLP   \n",
       "2  SKN ELECTRICAL SERVICES LIMITEDACCO  SKN ELECTRICAL SERVICES LIMITED   \n",
       "3                  METASTAR INVEST LLP              METASTAR INVEST LLP   \n",
       "4                  METASTAR INVEST LLP              METASTAR INVEST LLP   \n",
       "\n",
       "   payer_type                                            purpose  \\\n",
       "0     Company  1206295100052180 OCT4121800021 ADVANCE PAYM FO...   \n",
       "1     Company     1207035026699176 INVOICE.No 6215 DD 25.05.2012   \n",
       "2     Company                    1207065103089249   /FEE/USD4,81   \n",
       "3     Company                     1207095022358525 DOGOVOR ZAYMA   \n",
       "4     Company                     1207135024578077 DOGOVOR ZAYMA   \n",
       "\n",
       "                                         source_file  \n",
       "0  pdf/LCM ALLIANCE Account statement 30.06.12-31...  \n",
       "1  pdf/LCM ALLIANCE Account statement 30.06.12-31...  \n",
       "2  pdf/METASTAR Account statement 30.06.12-31.12....  \n",
       "3  pdf/METASTAR Account statement 30.06.12-31.12....  \n",
       "4  pdf/METASTAR Account statement 30.06.12-31.12....  \n",
       "\n",
       "[5 rows x 24 columns]"
      ]
     },
     "execution_count": 31,
     "metadata": {},
     "output_type": "execute_result"
    }
   ],
   "source": [
    "#read the dataset from json format \n",
    "import pandas as pd\n",
    "aa = pd.read_csv(r'C:\\Users\\renzhu\\Desktop\\Capstone\\dkdata_cleaned__.csv')\n",
    "aa.head()"
   ]
  },
  {
   "cell_type": "code",
   "execution_count": 32,
   "metadata": {},
   "outputs": [
    {
     "name": "stdout",
     "output_type": "stream",
     "text": [
      "<class 'pandas.core.frame.DataFrame'>\n",
      "RangeIndex: 16940 entries, 0 to 16939\n",
      "Data columns (total 24 columns):\n",
      "Unnamed: 0                  16940 non-null int64\n",
      "amount_eur                  16940 non-null float64\n",
      "amount_orig                 16940 non-null float64\n",
      "amount_orig_currency        16940 non-null object\n",
      "amount_usd                  16940 non-null float64\n",
      "beneficiary_account         16936 non-null object\n",
      "beneficiary_bank_country    16936 non-null object\n",
      "beneficiary_core            16940 non-null bool\n",
      "beneficiary_jurisdiction    16287 non-null object\n",
      "beneficiary_name            16940 non-null object\n",
      "beneficiary_name_norm       16940 non-null object\n",
      "beneficiary_type            16930 non-null object\n",
      "date                        16940 non-null object\n",
      "id                          16940 non-null int64\n",
      "investigation               16940 non-null object\n",
      "payer_account               16825 non-null object\n",
      "payer_bank_country          16825 non-null object\n",
      "payer_core                  16940 non-null bool\n",
      "payer_jurisdiction          16735 non-null object\n",
      "payer_name                  16940 non-null object\n",
      "payer_name_norm             16940 non-null object\n",
      "payer_type                  16889 non-null object\n",
      "purpose                     16940 non-null object\n",
      "source_file                 16940 non-null object\n",
      "dtypes: bool(2), float64(3), int64(2), object(17)\n",
      "memory usage: 2.9+ MB\n"
     ]
    }
   ],
   "source": [
    "#checked all of columns \n",
    "aa.info()"
   ]
  },
  {
   "cell_type": "code",
   "execution_count": 33,
   "metadata": {},
   "outputs": [],
   "source": [
    "#converted date from object format into DateTime\n",
    "aa.date = pd.to_datetime(aa.date)"
   ]
  },
  {
   "cell_type": "code",
   "execution_count": 34,
   "metadata": {
    "scrolled": true
   },
   "outputs": [
    {
     "data": {
      "text/plain": [
       "0   2012-06-30\n",
       "1   2012-07-03\n",
       "2   2012-07-06\n",
       "3   2012-07-09\n",
       "4   2012-07-13\n",
       "Name: date, dtype: datetime64[ns]"
      ]
     },
     "execution_count": 34,
     "metadata": {},
     "output_type": "execute_result"
    }
   ],
   "source": [
    "#re-checked to see if the column 'date' has converted successfully\n",
    "aa['date'].head()"
   ]
  },
  {
   "cell_type": "code",
   "execution_count": 35,
   "metadata": {},
   "outputs": [
    {
     "name": "stdout",
     "output_type": "stream",
     "text": [
      "<class 'pandas.core.frame.DataFrame'>\n",
      "RangeIndex: 16940 entries, 0 to 16939\n",
      "Data columns (total 24 columns):\n",
      "Unnamed: 0                  16940 non-null int64\n",
      "amount_eur                  16940 non-null float64\n",
      "amount_orig                 16940 non-null float64\n",
      "amount_orig_currency        16940 non-null object\n",
      "amount_usd                  16940 non-null float64\n",
      "beneficiary_account         16936 non-null object\n",
      "beneficiary_bank_country    16936 non-null object\n",
      "beneficiary_core            16940 non-null bool\n",
      "beneficiary_jurisdiction    16287 non-null object\n",
      "beneficiary_name            16940 non-null object\n",
      "beneficiary_name_norm       16940 non-null object\n",
      "beneficiary_type            16930 non-null object\n",
      "date                        16940 non-null datetime64[ns]\n",
      "id                          16940 non-null int64\n",
      "investigation               16940 non-null object\n",
      "payer_account               16825 non-null object\n",
      "payer_bank_country          16825 non-null object\n",
      "payer_core                  16940 non-null bool\n",
      "payer_jurisdiction          16735 non-null object\n",
      "payer_name                  16940 non-null object\n",
      "payer_name_norm             16940 non-null object\n",
      "payer_type                  16889 non-null object\n",
      "purpose                     16940 non-null object\n",
      "source_file                 16940 non-null object\n",
      "dtypes: bool(2), datetime64[ns](1), float64(3), int64(2), object(16)\n",
      "memory usage: 2.9+ MB\n"
     ]
    }
   ],
   "source": [
    "aa.info()"
   ]
  },
  {
   "cell_type": "code",
   "execution_count": 36,
   "metadata": {},
   "outputs": [
    {
     "data": {
      "text/plain": [
       "Unnamed: 0                    0\n",
       "amount_eur                    0\n",
       "amount_orig                   0\n",
       "amount_orig_currency          0\n",
       "amount_usd                    0\n",
       "beneficiary_account           4\n",
       "beneficiary_bank_country      4\n",
       "beneficiary_core              0\n",
       "beneficiary_jurisdiction    653\n",
       "beneficiary_name              0\n",
       "beneficiary_name_norm         0\n",
       "beneficiary_type             10\n",
       "date                          0\n",
       "id                            0\n",
       "investigation                 0\n",
       "payer_account               115\n",
       "payer_bank_country          115\n",
       "payer_core                    0\n",
       "payer_jurisdiction          205\n",
       "payer_name                    0\n",
       "payer_name_norm               0\n",
       "payer_type                   51\n",
       "purpose                       0\n",
       "source_file                   0\n",
       "dtype: int64"
      ]
     },
     "execution_count": 36,
     "metadata": {},
     "output_type": "execute_result"
    }
   ],
   "source": [
    "# check to see if any null values existed \n",
    "aa.isnull().sum()"
   ]
  },
  {
   "cell_type": "markdown",
   "metadata": {},
   "source": [
    "# Step 2: Exploratory Data Analysis\n",
    " \n",
    " - Obtained top 4 payer_name based on number of transactions\n",
    " - Based on top 4 payer_name, extract Top 4 payer_country and beneficiary country based on number of transactions\n",
    " - Based on top 4 payer_name, detect top 4 beneficiary_name"
   ]
  },
  {
   "cell_type": "code",
   "execution_count": 108,
   "metadata": {
    "scrolled": true
   },
   "outputs": [
    {
     "data": {
      "text/html": [
       "<div>\n",
       "<style scoped>\n",
       "    .dataframe tbody tr th:only-of-type {\n",
       "        vertical-align: middle;\n",
       "    }\n",
       "\n",
       "    .dataframe tbody tr th {\n",
       "        vertical-align: top;\n",
       "    }\n",
       "\n",
       "    .dataframe thead th {\n",
       "        text-align: right;\n",
       "    }\n",
       "</style>\n",
       "<table border=\"1\" class=\"dataframe\">\n",
       "  <thead>\n",
       "    <tr style=\"text-align: right;\">\n",
       "      <th></th>\n",
       "      <th>Number of Transactions</th>\n",
       "    </tr>\n",
       "    <tr>\n",
       "      <th>payer_name_norm</th>\n",
       "      <th></th>\n",
       "    </tr>\n",
       "  </thead>\n",
       "  <tbody>\n",
       "    <tr>\n",
       "      <th>HILUX SERVICES LP</th>\n",
       "      <td>5178</td>\n",
       "    </tr>\n",
       "    <tr>\n",
       "      <th>METASTAR INVEST LLP</th>\n",
       "      <td>3846</td>\n",
       "    </tr>\n",
       "    <tr>\n",
       "      <th>LCM ALLIANCE LLP</th>\n",
       "      <td>2820</td>\n",
       "    </tr>\n",
       "    <tr>\n",
       "      <th>POLUX MANAGEMENT LP</th>\n",
       "      <td>1344</td>\n",
       "    </tr>\n",
       "  </tbody>\n",
       "</table>\n",
       "</div>"
      ],
      "text/plain": [
       "                     Number of Transactions\n",
       "payer_name_norm                            \n",
       "HILUX SERVICES LP                      5178\n",
       "METASTAR INVEST LLP                    3846\n",
       "LCM ALLIANCE LLP                       2820\n",
       "POLUX MANAGEMENT LP                    1344"
      ]
     },
     "execution_count": 108,
     "metadata": {},
     "output_type": "execute_result"
    }
   ],
   "source": [
    "#group by payer name to see who are the top 4 payer_name based on the metric \"Number of Transactions\"\n",
    "top4_payer_name = aa.groupby(['payer_name_norm']).size().to_frame('Number of Transactions')\n",
    "top4_payer_name.sort_values(by='Number of Transactions',ascending=False,inplace=True)\n",
    "top4_payer_name[:4]"
   ]
  },
  {
   "cell_type": "code",
   "execution_count": 112,
   "metadata": {},
   "outputs": [],
   "source": [
    "#created a subset to extract these four companie's data from the original dataset \n",
    "top4_payer = aa[(aa['payer_name_norm']=='HILUX SERVICES LP') | (aa['payer_name_norm']=='LCM ALLIANCE LLP') | (aa['payer_name_norm']=='METASTAR INVEST LLP') | (aa['payer_name_norm']=='POLUX MANAGEMENT LP')]"
   ]
  },
  {
   "cell_type": "code",
   "execution_count": 113,
   "metadata": {
    "scrolled": true
   },
   "outputs": [
    {
     "data": {
      "text/html": [
       "<div>\n",
       "<style scoped>\n",
       "    .dataframe tbody tr th:only-of-type {\n",
       "        vertical-align: middle;\n",
       "    }\n",
       "\n",
       "    .dataframe tbody tr th {\n",
       "        vertical-align: top;\n",
       "    }\n",
       "\n",
       "    .dataframe thead th {\n",
       "        text-align: right;\n",
       "    }\n",
       "</style>\n",
       "<table border=\"1\" class=\"dataframe\">\n",
       "  <thead>\n",
       "    <tr style=\"text-align: right;\">\n",
       "      <th></th>\n",
       "      <th></th>\n",
       "      <th>Number of Transactions</th>\n",
       "    </tr>\n",
       "    <tr>\n",
       "      <th>payer_name_norm</th>\n",
       "      <th>payer_bank_country</th>\n",
       "      <th></th>\n",
       "    </tr>\n",
       "  </thead>\n",
       "  <tbody>\n",
       "    <tr>\n",
       "      <th rowspan=\"2\" valign=\"top\">HILUX SERVICES LP</th>\n",
       "      <th>33</th>\n",
       "      <td>122</td>\n",
       "    </tr>\n",
       "    <tr>\n",
       "      <th>EE</th>\n",
       "      <td>5056</td>\n",
       "    </tr>\n",
       "    <tr>\n",
       "      <th rowspan=\"2\" valign=\"top\">LCM ALLIANCE LLP</th>\n",
       "      <th>33</th>\n",
       "      <td>35</td>\n",
       "    </tr>\n",
       "    <tr>\n",
       "      <th>EE</th>\n",
       "      <td>2785</td>\n",
       "    </tr>\n",
       "    <tr>\n",
       "      <th rowspan=\"3\" valign=\"top\">METASTAR INVEST LLP</th>\n",
       "      <th>33</th>\n",
       "      <td>49</td>\n",
       "    </tr>\n",
       "    <tr>\n",
       "      <th>EE</th>\n",
       "      <td>3736</td>\n",
       "    </tr>\n",
       "    <tr>\n",
       "      <th>LV</th>\n",
       "      <td>61</td>\n",
       "    </tr>\n",
       "    <tr>\n",
       "      <th rowspan=\"2\" valign=\"top\">POLUX MANAGEMENT LP</th>\n",
       "      <th>33</th>\n",
       "      <td>50</td>\n",
       "    </tr>\n",
       "    <tr>\n",
       "      <th>EE</th>\n",
       "      <td>1294</td>\n",
       "    </tr>\n",
       "  </tbody>\n",
       "</table>\n",
       "</div>"
      ],
      "text/plain": [
       "                                        Number of Transactions\n",
       "payer_name_norm     payer_bank_country                        \n",
       "HILUX SERVICES LP   33                                     122\n",
       "                    EE                                    5056\n",
       "LCM ALLIANCE LLP    33                                      35\n",
       "                    EE                                    2785\n",
       "METASTAR INVEST LLP 33                                      49\n",
       "                    EE                                    3736\n",
       "                    LV                                      61\n",
       "POLUX MANAGEMENT LP 33                                      50\n",
       "                    EE                                    1294"
      ]
     },
     "execution_count": 113,
     "metadata": {},
     "output_type": "execute_result"
    }
   ],
   "source": [
    "#group by payer_name and country to see where are these top 4 payer's location (country)\n",
    "top4_payer_country = top4_payer.groupby(['payer_name_norm','payer_bank_country']).size().to_frame('Number of Transactions')\n",
    "top4_payer_country"
   ]
  },
  {
   "cell_type": "code",
   "execution_count": 114,
   "metadata": {},
   "outputs": [
    {
     "data": {
      "text/html": [
       "<div>\n",
       "<style scoped>\n",
       "    .dataframe tbody tr th:only-of-type {\n",
       "        vertical-align: middle;\n",
       "    }\n",
       "\n",
       "    .dataframe tbody tr th {\n",
       "        vertical-align: top;\n",
       "    }\n",
       "\n",
       "    .dataframe thead th {\n",
       "        text-align: right;\n",
       "    }\n",
       "</style>\n",
       "<table border=\"1\" class=\"dataframe\">\n",
       "  <thead>\n",
       "    <tr style=\"text-align: right;\">\n",
       "      <th></th>\n",
       "      <th></th>\n",
       "      <th>Number of Transactions</th>\n",
       "    </tr>\n",
       "    <tr>\n",
       "      <th>payer_name_norm</th>\n",
       "      <th>payer_bank_country</th>\n",
       "      <th></th>\n",
       "    </tr>\n",
       "  </thead>\n",
       "  <tbody>\n",
       "    <tr>\n",
       "      <th>HILUX SERVICES LP</th>\n",
       "      <th>EE</th>\n",
       "      <td>5056</td>\n",
       "    </tr>\n",
       "    <tr>\n",
       "      <th>LCM ALLIANCE LLP</th>\n",
       "      <th>EE</th>\n",
       "      <td>2785</td>\n",
       "    </tr>\n",
       "    <tr>\n",
       "      <th>METASTAR INVEST LLP</th>\n",
       "      <th>EE</th>\n",
       "      <td>3736</td>\n",
       "    </tr>\n",
       "    <tr>\n",
       "      <th>POLUX MANAGEMENT LP</th>\n",
       "      <th>EE</th>\n",
       "      <td>1294</td>\n",
       "    </tr>\n",
       "  </tbody>\n",
       "</table>\n",
       "</div>"
      ],
      "text/plain": [
       "                                        Number of Transactions\n",
       "payer_name_norm     payer_bank_country                        \n",
       "HILUX SERVICES LP   EE                                    5056\n",
       "LCM ALLIANCE LLP    EE                                    2785\n",
       "METASTAR INVEST LLP EE                                    3736\n",
       "POLUX MANAGEMENT LP EE                                    1294"
      ]
     },
     "execution_count": 114,
     "metadata": {},
     "output_type": "execute_result"
    }
   ],
   "source": [
    "top4_payer_country_max = top4_payer_country[(top4_payer_country['Number of Transactions']== 5056)|(top4_payer_country['Number of Transactions']== 2785)|(top4_payer_country['Number of Transactions']== 3736)|(top4_payer_country['Number of Transactions']== 1294)]\n",
    "top4_payer_country_max"
   ]
  },
  {
   "cell_type": "markdown",
   "metadata": {},
   "source": [
    "### Top 4 Payer Location - Country: \n",
    "#### Red Flag1: All of payers located at Estonia "
   ]
  },
  {
   "cell_type": "code",
   "execution_count": 115,
   "metadata": {},
   "outputs": [
    {
     "data": {
      "text/html": [
       "<div>\n",
       "<style scoped>\n",
       "    .dataframe tbody tr th:only-of-type {\n",
       "        vertical-align: middle;\n",
       "    }\n",
       "\n",
       "    .dataframe tbody tr th {\n",
       "        vertical-align: top;\n",
       "    }\n",
       "\n",
       "    .dataframe thead th {\n",
       "        text-align: right;\n",
       "    }\n",
       "</style>\n",
       "<table border=\"1\" class=\"dataframe\">\n",
       "  <thead>\n",
       "    <tr style=\"text-align: right;\">\n",
       "      <th></th>\n",
       "      <th>payer_name_norm</th>\n",
       "      <th>payer_bank_country</th>\n",
       "      <th>Number of Transactions</th>\n",
       "    </tr>\n",
       "  </thead>\n",
       "  <tbody>\n",
       "    <tr>\n",
       "      <th>0</th>\n",
       "      <td>HILUX SERVICES LP</td>\n",
       "      <td>EE</td>\n",
       "      <td>5056</td>\n",
       "    </tr>\n",
       "    <tr>\n",
       "      <th>1</th>\n",
       "      <td>LCM ALLIANCE LLP</td>\n",
       "      <td>EE</td>\n",
       "      <td>2785</td>\n",
       "    </tr>\n",
       "    <tr>\n",
       "      <th>2</th>\n",
       "      <td>METASTAR INVEST LLP</td>\n",
       "      <td>EE</td>\n",
       "      <td>3736</td>\n",
       "    </tr>\n",
       "    <tr>\n",
       "      <th>3</th>\n",
       "      <td>POLUX MANAGEMENT LP</td>\n",
       "      <td>EE</td>\n",
       "      <td>1294</td>\n",
       "    </tr>\n",
       "  </tbody>\n",
       "</table>\n",
       "</div>"
      ],
      "text/plain": [
       "       payer_name_norm payer_bank_country  Number of Transactions\n",
       "0    HILUX SERVICES LP                 EE                    5056\n",
       "1     LCM ALLIANCE LLP                 EE                    2785\n",
       "2  METASTAR INVEST LLP                 EE                    3736\n",
       "3  POLUX MANAGEMENT LP                 EE                    1294"
      ]
     },
     "execution_count": 115,
     "metadata": {},
     "output_type": "execute_result"
    }
   ],
   "source": [
    "#reset the index \n",
    "top4_payer_country_max11 = top4_payer_country_max.reset_index()\n",
    "top4_payer_country_max11"
   ]
  },
  {
   "cell_type": "code",
   "execution_count": 116,
   "metadata": {},
   "outputs": [
    {
     "data": {
      "text/html": [
       "<div>\n",
       "<style scoped>\n",
       "    .dataframe tbody tr th:only-of-type {\n",
       "        vertical-align: middle;\n",
       "    }\n",
       "\n",
       "    .dataframe tbody tr th {\n",
       "        vertical-align: top;\n",
       "    }\n",
       "\n",
       "    .dataframe thead th {\n",
       "        text-align: right;\n",
       "    }\n",
       "</style>\n",
       "<table border=\"1\" class=\"dataframe\">\n",
       "  <thead>\n",
       "    <tr style=\"text-align: right;\">\n",
       "      <th></th>\n",
       "      <th>payer_name_norm</th>\n",
       "      <th>payer_bank_country</th>\n",
       "      <th>Number of Transactions</th>\n",
       "    </tr>\n",
       "  </thead>\n",
       "  <tbody>\n",
       "    <tr>\n",
       "      <th>0</th>\n",
       "      <td>HILUX SERVICES LP</td>\n",
       "      <td>EE</td>\n",
       "      <td>5056</td>\n",
       "    </tr>\n",
       "    <tr>\n",
       "      <th>2</th>\n",
       "      <td>METASTAR INVEST LLP</td>\n",
       "      <td>EE</td>\n",
       "      <td>3736</td>\n",
       "    </tr>\n",
       "    <tr>\n",
       "      <th>1</th>\n",
       "      <td>LCM ALLIANCE LLP</td>\n",
       "      <td>EE</td>\n",
       "      <td>2785</td>\n",
       "    </tr>\n",
       "    <tr>\n",
       "      <th>3</th>\n",
       "      <td>POLUX MANAGEMENT LP</td>\n",
       "      <td>EE</td>\n",
       "      <td>1294</td>\n",
       "    </tr>\n",
       "  </tbody>\n",
       "</table>\n",
       "</div>"
      ],
      "text/plain": [
       "       payer_name_norm payer_bank_country  Number of Transactions\n",
       "0    HILUX SERVICES LP                 EE                    5056\n",
       "2  METASTAR INVEST LLP                 EE                    3736\n",
       "1     LCM ALLIANCE LLP                 EE                    2785\n",
       "3  POLUX MANAGEMENT LP                 EE                    1294"
      ]
     },
     "execution_count": 116,
     "metadata": {},
     "output_type": "execute_result"
    }
   ],
   "source": [
    "top4_payer_country_max11.sort_values(by='Number of Transactions',ascending=False,inplace=True)\n",
    "top4_payer_country_max11"
   ]
  },
  {
   "cell_type": "code",
   "execution_count": 118,
   "metadata": {
    "scrolled": true
   },
   "outputs": [
    {
     "data": {
      "image/png": "[encoded data removed]",
      "text/plain": [
       "<Figure size 1440x360 with 1 Axes>"
      ]
     },
     "metadata": {
      "needs_background": "light"
     },
     "output_type": "display_data"
    }
   ],
   "source": [
    "#plot the top 4 payers in one bar chart to see where they are located by number of transactions made in that country \n",
    "import matplotlib.pyplot as plt\n",
    "import seaborn as sns\n",
    "top4_payer_country_max11['description'] = top4_payer_country_max11.payer_name_norm + ' locate at ' + top4_payer_country_max11.payer_bank_country\n",
    "plt.figure(figsize=(20,5))\n",
    "sns.barplot(x='description',y='Number of Transactions',data=top4_payer_country_max11);\n",
    "plt.xticks(rotation=360)\n",
    "plt.show();"
   ]
  },
  {
   "cell_type": "code",
   "execution_count": 124,
   "metadata": {},
   "outputs": [
    {
     "data": {
      "text/html": [
       "<div>\n",
       "<style scoped>\n",
       "    .dataframe tbody tr th:only-of-type {\n",
       "        vertical-align: middle;\n",
       "    }\n",
       "\n",
       "    .dataframe tbody tr th {\n",
       "        vertical-align: top;\n",
       "    }\n",
       "\n",
       "    .dataframe thead th {\n",
       "        text-align: right;\n",
       "    }\n",
       "</style>\n",
       "<table border=\"1\" class=\"dataframe\">\n",
       "  <thead>\n",
       "    <tr style=\"text-align: right;\">\n",
       "      <th></th>\n",
       "      <th>Number of Transactions</th>\n",
       "    </tr>\n",
       "    <tr>\n",
       "      <th>payer_name_norm</th>\n",
       "      <th></th>\n",
       "    </tr>\n",
       "  </thead>\n",
       "  <tbody>\n",
       "    <tr>\n",
       "      <th>HILUX SERVICES LP</th>\n",
       "      <td>321</td>\n",
       "    </tr>\n",
       "    <tr>\n",
       "      <th>LCM ALLIANCE LLP</th>\n",
       "      <td>205</td>\n",
       "    </tr>\n",
       "    <tr>\n",
       "      <th>METASTAR INVEST LLP</th>\n",
       "      <td>126</td>\n",
       "    </tr>\n",
       "    <tr>\n",
       "      <th>POLUX MANAGEMENT LP</th>\n",
       "      <td>100</td>\n",
       "    </tr>\n",
       "  </tbody>\n",
       "</table>\n",
       "</div>"
      ],
      "text/plain": [
       "                     Number of Transactions\n",
       "payer_name_norm                            \n",
       "HILUX SERVICES LP                       321\n",
       "LCM ALLIANCE LLP                        205\n",
       "METASTAR INVEST LLP                     126\n",
       "POLUX MANAGEMENT LP                     100"
      ]
     },
     "execution_count": 124,
     "metadata": {},
     "output_type": "execute_result"
    }
   ],
   "source": [
    "#trace the top 4 payer's name to see who are the top 4 beneficiaries based on the number of transactions \n",
    "top4_beneficiary_name = top4_payer.groupby(['payer_name_norm','beneficiary_name_norm']).size().to_frame('Number of Transactions')\n",
    "payer_beneficiary_max = top4_beneficiary_name.groupby(['payer_name_norm']).apply(max) #extracted the top 4 payers in each group\n",
    "payer_beneficiary_max"
   ]
  },
  {
   "cell_type": "code",
   "execution_count": 143,
   "metadata": {},
   "outputs": [
    {
     "data": {
      "text/html": [
       "<div>\n",
       "<style scoped>\n",
       "    .dataframe tbody tr th:only-of-type {\n",
       "        vertical-align: middle;\n",
       "    }\n",
       "\n",
       "    .dataframe tbody tr th {\n",
       "        vertical-align: top;\n",
       "    }\n",
       "\n",
       "    .dataframe thead th {\n",
       "        text-align: right;\n",
       "    }\n",
       "</style>\n",
       "<table border=\"1\" class=\"dataframe\">\n",
       "  <thead>\n",
       "    <tr style=\"text-align: right;\">\n",
       "      <th></th>\n",
       "      <th>payer_name_norm</th>\n",
       "      <th>beneficiary_name_norm</th>\n",
       "      <th>Number of Transactions</th>\n",
       "    </tr>\n",
       "  </thead>\n",
       "  <tbody>\n",
       "    <tr>\n",
       "      <th>0</th>\n",
       "      <td>HILUX SERVICES LP</td>\n",
       "      <td>FABERLEX LP</td>\n",
       "      <td>321</td>\n",
       "    </tr>\n",
       "    <tr>\n",
       "      <th>1</th>\n",
       "      <td>LCM ALLIANCE LLP</td>\n",
       "      <td>KG COMMERCE LLP</td>\n",
       "      <td>205</td>\n",
       "    </tr>\n",
       "    <tr>\n",
       "      <th>2</th>\n",
       "      <td>METASTAR INVEST LLP</td>\n",
       "      <td>LOTA SALES LLP</td>\n",
       "      <td>126</td>\n",
       "    </tr>\n",
       "    <tr>\n",
       "      <th>3</th>\n",
       "      <td>POLUX MANAGEMENT LP</td>\n",
       "      <td>RIVERLANE LLP</td>\n",
       "      <td>100</td>\n",
       "    </tr>\n",
       "  </tbody>\n",
       "</table>\n",
       "</div>"
      ],
      "text/plain": [
       "       payer_name_norm beneficiary_name_norm  Number of Transactions\n",
       "0    HILUX SERVICES LP           FABERLEX LP                     321\n",
       "1     LCM ALLIANCE LLP       KG COMMERCE LLP                     205\n",
       "2  METASTAR INVEST LLP        LOTA SALES LLP                     126\n",
       "3  POLUX MANAGEMENT LP         RIVERLANE LLP                     100"
      ]
     },
     "execution_count": 143,
     "metadata": {},
     "output_type": "execute_result"
    }
   ],
   "source": [
    "top4_beneficiary = top4_beneficiary_name[(top4_beneficiary_name['Number of Transactions']== 321)|(top4_beneficiary_name['Number of Transactions']== 205)|(top4_beneficiary_name['Number of Transactions']== 126)|(top4_beneficiary_name['Number of Transactions']== 100)]\n",
    "top4_beneficiary = top4_beneficiary.reset_index()\n",
    "top4_beneficiary"
   ]
  },
  {
   "cell_type": "markdown",
   "metadata": {},
   "source": [
    "### Top 4 Beneficiaries \n",
    "#### Red flag2: one of top 4 payers \"HILUX SERVICES LP\" had 321 transactions with \"FABERLEX LP\" "
   ]
  },
  {
   "cell_type": "code",
   "execution_count": 144,
   "metadata": {
    "scrolled": true
   },
   "outputs": [
    {
     "data": {
      "image/png": "[encoded data removed]",
      "text/plain": [
       "<Figure size 1440x360 with 1 Axes>"
      ]
     },
     "metadata": {
      "needs_background": "light"
     },
     "output_type": "display_data"
    }
   ],
   "source": [
    "#plot each payers into one bar chart to see who they paid to by number of transactions made for each beneficiary \n",
    "top4_beneficiary['description'] = top4_beneficiary.payer_name_norm + ' paid to ' + top4_beneficiary.beneficiary_name_norm\n",
    "plt.figure(figsize=(20,5))\n",
    "sns.barplot(x='description',y='Number of Transactions',data=top4_beneficiary);\n",
    "plt.xticks(rotation=360)\n",
    "plt.show();"
   ]
  },
  {
   "cell_type": "markdown",
   "metadata": {},
   "source": [
    "# Step 3: Historical Analysis & Visualization<br> \n",
    "\n",
    "- Based on top 4 payers on step 1, get more details about each payer's date and number of transactions \n",
    "- Created historical line chart between 2012 to 2014 for top 4 payers based on number of transactions to observe time series activities \n",
    "- Created bar charts between 2012 to 2014 for top 4 payers based on average amount per transactions\n"
   ]
  },
  {
   "cell_type": "markdown",
   "metadata": {},
   "source": [
    "#### Data preparation for the purpose: generate historical data visualization for top 4 payers "
   ]
  },
  {
   "cell_type": "code",
   "execution_count": 146,
   "metadata": {
    "scrolled": false
   },
   "outputs": [],
   "source": [
    "# to see if there are transactions that happen on the same date - group by payer name and date\n",
    "company_group_date = aa.groupby(['payer_name_norm','date'],as_index=False).size().to_frame('Number of Transactions')\n",
    "company_group_date.sort_values(by='Number of Transactions',ascending=False,inplace=True)\n",
    "\n",
    "# To get the total amount under each date - group by payer_name and date\n",
    "company_groupby_amount = aa.groupby(['payer_name_norm','date']).sum()['amount_eur'].to_frame('Amount')\n",
    "company_groupby_amount.sort_values(by='Amount',ascending=False,inplace=True)\n",
    "\n",
    "# consolidated two dataframes above by inner join on 'payer_name' and 'date'\n",
    "payer_date_df = pd.merge(company_group_date,company_groupby_amount,how='inner',on=['payer_name_norm','date'])\n",
    "\n",
    "# created index for dataframe 'payer_date_df'\n",
    "payer_date_df = payer_date_df.reset_index()\n",
    "\n",
    "# filterd top 4 payer_name by based on payer_name and date\n",
    "top4_company = payer_date_df[(payer_date_df['payer_name_norm']=='HILUX SERVICES LP') | (payer_date_df['payer_name_norm']=='LCM ALLIANCE LLP') | (payer_date_df['payer_name_norm']=='METASTAR INVEST LLP') | (payer_date_df['payer_name_norm']=='POLUX MANAGEMENT LP')]\n",
    "top4_company.head()\n",
    "\n",
    "# created index for dataframe 'top4_company' to re-order the index for date coding purpose\n",
    "top4_company = top4_company.reset_index()\n",
    "\n",
    "# added another column to calculate average amount per transaction\n",
    "top4_company['Ave Amount Per Transaction'] = top4_company['Amount']/top4_company['Number of Transactions']\n",
    "\n",
    "# renamed the top 4 companies\n",
    "top4_company.rename(columns={'Number of Transactions':'Num_Trans', 'Ave Amount Per Transaction':'Ave_Amt_Trans'},inplace=True)\n",
    "\n",
    "# converted datetime to string\n",
    "top4_company['date'] = top4_company['date'].astype(str)"
   ]
  },
  {
   "cell_type": "code",
   "execution_count": 147,
   "metadata": {},
   "outputs": [
    {
     "name": "stdout",
     "output_type": "stream",
     "text": [
      "<class 'pandas.core.frame.DataFrame'>\n",
      "RangeIndex: 1062 entries, 0 to 1061\n",
      "Data columns (total 6 columns):\n",
      "index              1062 non-null int64\n",
      "payer_name_norm    1062 non-null object\n",
      "date               1062 non-null object\n",
      "Num_Trans          1062 non-null int64\n",
      "Amount             1062 non-null float64\n",
      "Ave_Amt_Trans      1062 non-null float64\n",
      "dtypes: float64(2), int64(2), object(2)\n",
      "memory usage: 49.9+ KB\n"
     ]
    }
   ],
   "source": [
    "top4_company.info()"
   ]
  },
  {
   "cell_type": "code",
   "execution_count": 149,
   "metadata": {},
   "outputs": [],
   "source": [
    "# this code extracts month and year for each transaction - this will be used for data visualization\n",
    "from datetime import date\n",
    "\n",
    "transaction_list = []\n",
    "for d, row in enumerate(top4_company.values):\n",
    "    getYear, getMonth, getDay = top4_company.date[d].split('-')\n",
    "    month = getMonth #extracts and stores month information\n",
    "    year = getYear #extracts and stores year information\n",
    "    t_list = [top4_company.payer_name_norm[d], month, year,top4_company.date[d],top4_company.Num_Trans[d],top4_company.Amount[d],top4_company.Ave_Amt_Trans[d]]\n",
    "    transaction_list.append(t_list)\n",
    "transactions = pd.DataFrame(transaction_list, columns = ['Company', 'Month', 'Year','Year_Month_Date', 'Number of Transactions','Amount','Average Amount Per Transaction'])\n"
   ]
  },
  {
   "cell_type": "code",
   "execution_count": 151,
   "metadata": {},
   "outputs": [],
   "source": [
    "#group by each company by year and month to clearly see the number of transactions under each year in different month\n",
    "trans_mon_yr = transactions.groupby(['Company','Year','Month'])['Number of Transactions','Amount'].sum()\n",
    "#add another column \"Average Amount Per Transaction\" calculated by amount/number of transactions\n",
    "trans_mon_yr['Average Amount Per Transaction'] = trans_mon_yr['Amount']/trans_mon_yr['Number of Transactions']\n",
    "#create another subset to contain \"company\",'year','month' and 'Number of Transactions'\n",
    "transaction_df = transactions.loc[:,['Company','Year','Month','Number of Transactions']]\n",
    "#concatenate columns 'month' and 'year' into a new column named 'Month_Year' for purpose of making line chart \n",
    "transaction_df['Month_Year'] = transaction_df['Month'] + '-' + transaction_df['Year']\n",
    "#droped the columns 'year' and 'month'\n",
    "transaction_df.drop(columns=['Year','Month'],inplace=True)\n",
    "#converted it into pandas dataframe\n",
    "transaction_df.Month_Year = pd.to_datetime(transaction_df.Month_Year)"
   ]
  },
  {
   "cell_type": "markdown",
   "metadata": {},
   "source": [
    "### The number of transactions movement for top 4 payers between 2012 to 2014"
   ]
  },
  {
   "cell_type": "code",
   "execution_count": 152,
   "metadata": {
    "scrolled": false
   },
   "outputs": [
    {
     "name": "stderr",
     "output_type": "stream",
     "text": [
      "C:\\Users\\renzhu\\Anaconda3\\lib\\site-packages\\scipy\\stats\\stats.py:1713: FutureWarning: Using a non-tuple sequence for multidimensional indexing is deprecated; use `arr[tuple(seq)]` instead of `arr[seq]`. In the future this will be interpreted as an array index, `arr[np.array(seq)]`, which will result either in an error or a different result.\n",
      "  return np.add.reduce(sorted[indexer] * weights, axis=axis) / sumval\n"
     ]
    },
    {
     "data": {
      "image/png": "[encoded data removed]",
      "text/plain": [
       "<Figure size 1440x720 with 1 Axes>"
      ]
     },
     "metadata": {
      "needs_background": "light"
     },
     "output_type": "display_data"
    }
   ],
   "source": [
    "#plot top four payers in one line chart based on number of transactions from 2012 to 2014 \n",
    "import matplotlib.pyplot as plt\n",
    "import seaborn as sns\n",
    "\n",
    "plt.figure(figsize=(20,10))\n",
    "plt.xticks(rotation=90)\n",
    "sns.lineplot(x='Month_Year',y='Number of Transactions',hue='Company',data=transaction_df);"
   ]
  },
  {
   "cell_type": "code",
   "execution_count": 163,
   "metadata": {},
   "outputs": [
    {
     "data": {
      "text/plain": [
       "payer_name_norm    beneficiary_name_norm             \n",
       "HILUX SERVICES LP  3B SCIENTIFIC EUROPE KFT              1\n",
       "                   3M EAST AG                            2\n",
       "                   3S MADENCILIK SERAMIK INSAAT          7\n",
       "                   A2 DI DAVIDE AGRATI + C. SNC          1\n",
       "                   ACIKGOZ IPLIK VE HALI SAN.TIC.LTD.    1\n",
       "dtype: int64"
      ]
     },
     "execution_count": 163,
     "metadata": {},
     "output_type": "execute_result"
    }
   ],
   "source": [
    "ben_cnt = top4_payer.groupby(['payer_name_norm','beneficiary_name_norm']).size()\n",
    "ben_cnt.head()"
   ]
  },
  {
   "cell_type": "code",
   "execution_count": 157,
   "metadata": {},
   "outputs": [],
   "source": [
    "ben_cnt.to_csv(r'C:\\Users\\renzhu\\Desktop\\Capstone\\aadd.csv')"
   ]
  },
  {
   "cell_type": "markdown",
   "metadata": {},
   "source": [
    "### Insight:\n",
    "#### The number of transactions for \"LCM\" and \"METASTAR\" started to grow strong at the beginning of 2013 then decreased dramatically at the end of 2013. On the other hand, the number of transactions for \"HILUX\" and \"POLUX\" started to grow strong at the opposite time period (at the end of 2013) of \"LCM\" and \"METASTAR\". So, I believe they have a \"smart\" money laundering strategy by switching around the firms to disguise the detection.  "
   ]
  }
 ],
 "metadata": {
  "kernelspec": {
   "display_name": "Python 3",
   "language": "python",
   "name": "python3"
  },
  "language_info": {
   "codemirror_mode": {
    "name": "ipython",
    "version": 3
   },
   "file_extension": ".py",
   "mimetype": "text/x-python",
   "name": "python",
   "nbconvert_exporter": "python",
   "pygments_lexer": "ipython3",
   "version": "3.7.1"
  }
 },
 "nbformat": 4,
 "nbformat_minor": 2
}
