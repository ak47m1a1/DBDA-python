{
 "cells": [
  {
   "cell_type": "markdown",
   "metadata": {},
   "source": [
    "***Original Link:*** https://archive.ics.uci.edu/ml/datasets/Travel+Reviews"
   ]
  },
  {
   "cell_type": "markdown",
   "metadata": {},
   "source": [
    "***GitHub Link:*** https://github.com/ak47m1a1/DBDA-python/blob/master/tripadvisor_review.csv"
   ]
  },
  {
   "cell_type": "markdown",
   "metadata": {},
   "source": [
    "***Introduction to the data set:*** \n",
    "*This data set is really interesting because the data set is about Reviews on destinations in 10 categories mentioned across East Asia are considered. \n",
    "Each traveler rating is mapped as Excellent (4), Very Good (3), Average (2), Poor (1), and Terrible (0) \n",
    "and average rating is used against each category per user. I really want to know which category has the highest score and which category has the lowest score according to the total user's rating. The data set shows the average rating score from each user, however, there is no total average score for each category summarized from the total user. I think from the Python Analytics Programming class, I will learn many tools to analyze my question for this data set. In addition, I will make a range of top 1 to 10 to show the total average score for these categories. From these ranking category, we can analyze deeper about the specific question why some categories have the lower score, what happened to these categories and how to improve these categories to satisfy the traveler.*"
   ]
  },
  {
   "cell_type": "code",
   "execution_count": null,
   "metadata": {},
   "outputs": [],
   "source": []
  }
 ],
 "metadata": {
  "kernelspec": {
   "display_name": "Python 3",
   "language": "python",
   "name": "python3"
  },
  "language_info": {
   "codemirror_mode": {
    "name": "ipython",
    "version": 3
   },
   "file_extension": ".py",
   "mimetype": "text/x-python",
   "name": "python",
   "nbconvert_exporter": "python",
   "pygments_lexer": "ipython3",
   "version": "3.7.1"
  }
 },
 "nbformat": 4,
 "nbformat_minor": 2
}
