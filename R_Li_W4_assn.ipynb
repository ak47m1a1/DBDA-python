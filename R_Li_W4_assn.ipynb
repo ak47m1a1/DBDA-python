{
 "cells": [
  {
   "cell_type": "markdown",
   "metadata": {},
   "source": [
    "***First Task***"
   ]
  },
  {
   "cell_type": "code",
   "execution_count": 45,
   "metadata": {},
   "outputs": [
    {
     "data": {
      "text/plain": [
       "array([2, 4])"
      ]
     },
     "execution_count": 45,
     "metadata": {},
     "output_type": "execute_result"
    }
   ],
   "source": [
    "#use intersect1d to finds the distinct/unique common items between two arrays a and b#\n",
    "import numpy as np \n",
    "a = np.array([1, 2, 3, 2, 3, 4, 3, 4, 5, 6])\n",
    "b = np.array([7, 2, 10, 2, 7, 4, 9, 4, 9, 8])\n",
    "np.intersect1d(a,b)"
   ]
  },
  {
   "cell_type": "markdown",
   "metadata": {},
   "source": [
    "***Second Task***"
   ]
  },
  {
   "cell_type": "code",
   "execution_count": 9,
   "metadata": {},
   "outputs": [
    {
     "name": "stdout",
     "output_type": "stream",
     "text": [
      "[[ 1  6 11]\n",
      " [ 2  7 12]\n",
      " [ 3  8 13]\n",
      " [ 4  9 14]\n",
      " [ 5 10 15]]\n"
     ]
    }
   ],
   "source": [
    "#use arange to get 0-15, then use [1:] to get array from 1 to 15, then function T to reshape 5X3 array to 3X5#\n",
    "import numpy as np \n",
    "a = np.arange(16)[1:].reshape((3,5)).T\n",
    "print(a)"
   ]
  },
  {
   "cell_type": "markdown",
   "metadata": {},
   "source": [
    "\n",
    "***Third Task***"
   ]
  },
  {
   "cell_type": "code",
   "execution_count": 6,
   "metadata": {},
   "outputs": [
    {
     "name": "stdout",
     "output_type": "stream",
     "text": [
      "[ 1  7  8 15]\n"
     ]
    }
   ],
   "source": [
    "#use setdiff1d function to remove from array a any items that are also present in array b.\n",
    "import numpy as np\n",
    "a = np.array([12, 5, 7, 15, 3, 1, 8])\n",
    "b = np.array([14, 6, 3, 11, 19, 12, 5])\n",
    "a = np.setdiff1d(a,b)\n",
    "print(a)"
   ]
  },
  {
   "cell_type": "markdown",
   "metadata": {},
   "source": [
    "***Fourth Task***"
   ]
  },
  {
   "cell_type": "code",
   "execution_count": 22,
   "metadata": {},
   "outputs": [
    {
     "data": {
      "text/plain": [
       "array([  55,  100,  150,  190,  240,  300,  300,  350,  400,  400,  440,\n",
       "        480,  530,  600,  650,  710,  760,  800,  850,  890,  920,  960,\n",
       "       1010, 1050, 1100, 1140, 1200, 1200, 1280, 1340, 1400, 1400, 1450,\n",
       "       1500, 1550])"
      ]
     },
     "execution_count": 22,
     "metadata": {},
     "output_type": "execute_result"
    }
   ],
   "source": [
    "#The distance between NYC to Key West is 1550 miles, so I manually create array that cumulate the distance everyday\n",
    "import numpy as np\n",
    "miles = [55, 100, 150, 190, 240,300,300,350,400,400,440,480,530,600,650,710,760,800,850,890,920,960,\n",
    "                    1010,1050,1100,1140,1200,1200,1280,1340,1400,1400,1450,1500,1550]\n",
    "totaldistance = np.array(miles)\n",
    "totaldistance"
   ]
  },
  {
   "cell_type": "code",
   "execution_count": 27,
   "metadata": {},
   "outputs": [
    {
     "name": "stdout",
     "output_type": "stream",
     "text": [
      "[45 50 40 50 60  0 50 50  0 40 40 50 70 50 60 50 40 50 40 30 40 50 40 50\n",
      " 40 60  0 80 60 60  0 50 50 50]\n"
     ]
    }
   ],
   "source": [
    "milesperday = np.diff(totaldistance) #np.diff function to show the milesperday\n",
    "print(milesperday)"
   ]
  },
  {
   "cell_type": "markdown",
   "metadata": {},
   "source": [
    "***Write up***\n",
    "###First, I Google the distance between NYC and Key West by bike, then it shows 1550 miles. I manually create the sum of \n",
    "distance every day, so the miles list is cumulative miles day by day. Finally, I use the Numpy function which is np.array to show all the data from the list. The array shows cumulative mileages day by day and it is easily to see some numbers are same because of eitherweather condition or personal fatigue, there are 4 days that the cumulative mileages are the same. In addtion, I use the np.diff function to show each day mileage from day 1 to day 35. Same as the cumulative mileages show above, the milesperday is easier to see that there are 4 days that milesperday is 0 which means that these 4 days are not driving.###"
   ]
  },
  {
   "cell_type": "markdown",
   "metadata": {},
   "source": [
    "***Last***"
   ]
  },
  {
   "cell_type": "code",
   "execution_count": 8,
   "metadata": {},
   "outputs": [
    {
     "name": "stderr",
     "output_type": "stream",
     "text": [
      "C:\\Users\\renzhu\\Anaconda3\\lib\\site-packages\\ipykernel_launcher.py:8: FutureWarning: Method .as_matrix will be removed in a future version. Use .values instead.\n",
      "  \n"
     ]
    },
    {
     "data": {
      "text/plain": [
       "numpy.ndarray"
      ]
     },
     "execution_count": 8,
     "metadata": {},
     "output_type": "execute_result"
    }
   ],
   "source": [
    "import pandas\n",
    "import numpy as np\n",
    "\n",
    "# supress scientific notation\n",
    "np.set_printoptions(suppress = True)\n",
    "\n",
    "# read the data file from GitHub and convert to a NumPy ndarray object\n",
    "nyc_water = pandas.read_csv('https://raw.githubusercontent.com/jtopor/DAV-5400/master/Week4/Water_Consumption_In_The_New_York_City.csv').as_matrix()\n",
    "\n",
    "# verify you have an ndarray object\n",
    "type(nyc_water)"
   ]
  },
  {
   "cell_type": "code",
   "execution_count": 28,
   "metadata": {},
   "outputs": [
    {
     "name": "stdout",
     "output_type": "stream",
     "text": [
      "1512.0\n"
     ]
    }
   ],
   "source": [
    "# The first question about maximum yearly NYC consumption of water in millions of gallons per day, I use np.max function.\n",
    "nycconsumption = np.max(nyc_water[:,2])\n",
    "print(nycconsumption)"
   ]
  },
  {
   "cell_type": "code",
   "execution_count": 29,
   "metadata": {},
   "outputs": [
    {
     "name": "stdout",
     "output_type": "stream",
     "text": [
      "39\n"
     ]
    }
   ],
   "source": [
    "# the second question about how many calendar years are represented within this data set? I use np.size function\n",
    "years = np.size(nyc_water,axis=0)\n",
    "print(years)"
   ]
  },
  {
   "cell_type": "code",
   "execution_count": 30,
   "metadata": {},
   "outputs": [
    {
     "name": "stdout",
     "output_type": "stream",
     "text": [
      "160.30769230769232\n",
      "31.51894330370624\n"
     ]
    }
   ],
   "source": [
    "# the third question is about what is the mean and the standard deviation of the per capita daily water consumption,\n",
    "# I use mean and std function to show the answer\n",
    "mean_per_capita=np.mean(nyc_water[:,3])\n",
    "standard_per_capita=np.std(nyc_water[:,3])\n",
    "print(mean_per_capita)\n",
    "print(standard_per_capita)"
   ]
  },
  {
   "cell_type": "code",
   "execution_count": 35,
   "metadata": {},
   "outputs": [
    {
     "name": "stdout",
     "output_type": "stream",
     "text": [
      "[-30461.   17602.   19864.   72119.   53290.   39540.   45192.   23230.\n",
      "  11243.   -9544.   -8525.   38851.   54443.   77222.   64292.   62582.\n",
      "  64772.   75631.   84816.   89401.   60618.   16685.5  16685.5  16685.5\n",
      "  16685.5  16685.5  16685.5  16685.5  16685.5  16685.5  16685.5 108965.\n",
      "  77081.   61281.   49530.   44512.   21171.   85025. ]\n"
     ]
    }
   ],
   "source": [
    "#The final question is about what is the increase or decrease in population from year to year, np.diff Numpy function is good\n",
    "#solution for this question\n",
    "pop_diff = np.diff(nyc_water[:,1])\n",
    "print(pop_diff)"
   ]
  },
  {
   "cell_type": "code",
   "execution_count": null,
   "metadata": {},
   "outputs": [],
   "source": []
  }
 ],
 "metadata": {
  "kernelspec": {
   "display_name": "Python 3",
   "language": "python",
   "name": "python3"
  },
  "language_info": {
   "codemirror_mode": {
    "name": "ipython",
    "version": 3
   },
   "file_extension": ".py",
   "mimetype": "text/x-python",
   "name": "python",
   "nbconvert_exporter": "python",
   "pygments_lexer": "ipython3",
   "version": "3.7.1"
  }
 },
 "nbformat": 4,
 "nbformat_minor": 2
}
