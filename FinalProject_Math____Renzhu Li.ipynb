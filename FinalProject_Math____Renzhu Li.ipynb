{
 "cells": [
  {
   "cell_type": "markdown",
   "metadata": {},
   "source": [
    "# Research Question\n",
    "\n",
    "***FINAL PROJECT-Drinks and Cirrhosis***\n",
    "\n",
    "\n",
    "\n",
    "\n",
    "\n",
    "***INSTRUCTOR: Aaron Hall***\n",
    "\n",
    "\n",
    "\n",
    "\n",
    "\n",
    "\n",
    "\n",
    "***Renzhu Li***\n",
    "\n",
    "\n",
    "\n"
   ]
  },
  {
   "cell_type": "markdown",
   "metadata": {},
   "source": [
    "# Inspection of the data\n",
    "\n",
    "In this dataset, we are going to discover the relationship among the death rate from Cirrhosis, the consumption of wine per capita and the consumption of hard liquor per capita. I am going to use linear regression analysis. The null hypothesis is that there is no significant prediction of the death rate from Cirrhosis by the consumption of wine per capita and the consumption of hard liquor per capita. The alternative hypothesis there is significant prediction of the death rate from Cirrhosis by the consumption of wine per capita and the consumption of hard liquor per capita."
   ]
  },
  {
   "cell_type": "code",
   "execution_count": 3,
   "metadata": {},
   "outputs": [],
   "source": [
    "import numpy as np\n",
    "import pandas as pd\n",
    "import statsmodels.api as sm\n",
    "import statsmodels.formula.api as smf\n",
    "import seaborn as sns\n"
   ]
  },
  {
   "cell_type": "code",
   "execution_count": 4,
   "metadata": {},
   "outputs": [],
   "source": [
    "df= pd.read_csv('https://raw.githubusercontent.com/ak47m1a1/DBDA-python/master/Final%20Math.csv')\n"
   ]
  },
  {
   "cell_type": "markdown",
   "metadata": {},
   "source": [
    "## Line by Line\n",
    "\n",
    "\n"
   ]
  },
  {
   "cell_type": "code",
   "execution_count": 19,
   "metadata": {},
   "outputs": [
    {
     "data": {
      "text/html": [
       "<div>\n",
       "<style scoped>\n",
       "    .dataframe tbody tr th:only-of-type {\n",
       "        vertical-align: middle;\n",
       "    }\n",
       "\n",
       "    .dataframe tbody tr th {\n",
       "        vertical-align: top;\n",
       "    }\n",
       "\n",
       "    .dataframe thead th {\n",
       "        text-align: right;\n",
       "    }\n",
       "</style>\n",
       "<table border=\"1\" class=\"dataframe\">\n",
       "  <thead>\n",
       "    <tr style=\"text-align: right;\">\n",
       "      <th></th>\n",
       "      <th>The size of the urban population</th>\n",
       "      <th>The reciprocal of the number of births to women between 45 to 49</th>\n",
       "      <th>The consumption of wine per capita</th>\n",
       "      <th>The consumption of hard liquor per capita</th>\n",
       "      <th>The death rate from cirrhosis</th>\n",
       "    </tr>\n",
       "  </thead>\n",
       "  <tbody>\n",
       "    <tr>\n",
       "      <th>0</th>\n",
       "      <td>44</td>\n",
       "      <td>33.2</td>\n",
       "      <td>5</td>\n",
       "      <td>30</td>\n",
       "      <td>41.2</td>\n",
       "    </tr>\n",
       "    <tr>\n",
       "      <th>1</th>\n",
       "      <td>43</td>\n",
       "      <td>33.8</td>\n",
       "      <td>4</td>\n",
       "      <td>41</td>\n",
       "      <td>31.7</td>\n",
       "    </tr>\n",
       "    <tr>\n",
       "      <th>2</th>\n",
       "      <td>48</td>\n",
       "      <td>40.6</td>\n",
       "      <td>3</td>\n",
       "      <td>38</td>\n",
       "      <td>39.4</td>\n",
       "    </tr>\n",
       "    <tr>\n",
       "      <th>3</th>\n",
       "      <td>52</td>\n",
       "      <td>39.2</td>\n",
       "      <td>7</td>\n",
       "      <td>48</td>\n",
       "      <td>57.5</td>\n",
       "    </tr>\n",
       "    <tr>\n",
       "      <th>4</th>\n",
       "      <td>71</td>\n",
       "      <td>45.5</td>\n",
       "      <td>11</td>\n",
       "      <td>53</td>\n",
       "      <td>74.8</td>\n",
       "    </tr>\n",
       "  </tbody>\n",
       "</table>\n",
       "</div>"
      ],
      "text/plain": [
       "   The size of the urban population  \\\n",
       "0                                44   \n",
       "1                                43   \n",
       "2                                48   \n",
       "3                                52   \n",
       "4                                71   \n",
       "\n",
       "   The reciprocal of the number of births to women between 45 to 49  \\\n",
       "0                                               33.2                  \n",
       "1                                               33.8                  \n",
       "2                                               40.6                  \n",
       "3                                               39.2                  \n",
       "4                                               45.5                  \n",
       "\n",
       "   The consumption of wine per capita  \\\n",
       "0                                   5   \n",
       "1                                   4   \n",
       "2                                   3   \n",
       "3                                   7   \n",
       "4                                  11   \n",
       "\n",
       "   The consumption of hard liquor per capita  The death rate from cirrhosis  \n",
       "0                                         30                           41.2  \n",
       "1                                         41                           31.7  \n",
       "2                                         38                           39.4  \n",
       "3                                         48                           57.5  \n",
       "4                                         53                           74.8  "
      ]
     },
     "execution_count": 19,
     "metadata": {},
     "output_type": "execute_result"
    }
   ],
   "source": [
    "df.head()"
   ]
  },
  {
   "cell_type": "markdown",
   "metadata": {},
   "source": [
    "## Summary Statistics\n",
    "\n",
    "\n"
   ]
  },
  {
   "cell_type": "code",
   "execution_count": 20,
   "metadata": {},
   "outputs": [
    {
     "data": {
      "text/html": [
       "<div>\n",
       "<style scoped>\n",
       "    .dataframe tbody tr th:only-of-type {\n",
       "        vertical-align: middle;\n",
       "    }\n",
       "\n",
       "    .dataframe tbody tr th {\n",
       "        vertical-align: top;\n",
       "    }\n",
       "\n",
       "    .dataframe thead th {\n",
       "        text-align: right;\n",
       "    }\n",
       "</style>\n",
       "<table border=\"1\" class=\"dataframe\">\n",
       "  <thead>\n",
       "    <tr style=\"text-align: right;\">\n",
       "      <th></th>\n",
       "      <th>The size of the urban population</th>\n",
       "      <th>The reciprocal of the number of births to women between 45 to 49</th>\n",
       "      <th>The consumption of wine per capita</th>\n",
       "      <th>The consumption of hard liquor per capita</th>\n",
       "      <th>The death rate from cirrhosis</th>\n",
       "    </tr>\n",
       "  </thead>\n",
       "  <tbody>\n",
       "    <tr>\n",
       "      <th>count</th>\n",
       "      <td>46.000000</td>\n",
       "      <td>46.000000</td>\n",
       "      <td>46.000000</td>\n",
       "      <td>46.000000</td>\n",
       "      <td>46.000000</td>\n",
       "    </tr>\n",
       "    <tr>\n",
       "      <th>mean</th>\n",
       "      <td>56.260870</td>\n",
       "      <td>41.476087</td>\n",
       "      <td>11.586957</td>\n",
       "      <td>57.500000</td>\n",
       "      <td>63.493478</td>\n",
       "    </tr>\n",
       "    <tr>\n",
       "      <th>std</th>\n",
       "      <td>15.747218</td>\n",
       "      <td>7.044342</td>\n",
       "      <td>6.920424</td>\n",
       "      <td>22.140712</td>\n",
       "      <td>23.447979</td>\n",
       "    </tr>\n",
       "    <tr>\n",
       "      <th>min</th>\n",
       "      <td>27.000000</td>\n",
       "      <td>31.200000</td>\n",
       "      <td>2.000000</td>\n",
       "      <td>26.000000</td>\n",
       "      <td>28.000000</td>\n",
       "    </tr>\n",
       "    <tr>\n",
       "      <th>25%</th>\n",
       "      <td>44.250000</td>\n",
       "      <td>35.625000</td>\n",
       "      <td>6.250000</td>\n",
       "      <td>41.500000</td>\n",
       "      <td>48.900000</td>\n",
       "    </tr>\n",
       "    <tr>\n",
       "      <th>50%</th>\n",
       "      <td>55.000000</td>\n",
       "      <td>42.250000</td>\n",
       "      <td>10.000000</td>\n",
       "      <td>56.000000</td>\n",
       "      <td>57.650000</td>\n",
       "    </tr>\n",
       "    <tr>\n",
       "      <th>75%</th>\n",
       "      <td>65.000000</td>\n",
       "      <td>45.825000</td>\n",
       "      <td>15.750000</td>\n",
       "      <td>68.750000</td>\n",
       "      <td>75.700000</td>\n",
       "    </tr>\n",
       "    <tr>\n",
       "      <th>max</th>\n",
       "      <td>87.000000</td>\n",
       "      <td>56.100000</td>\n",
       "      <td>31.000000</td>\n",
       "      <td>149.000000</td>\n",
       "      <td>129.900000</td>\n",
       "    </tr>\n",
       "  </tbody>\n",
       "</table>\n",
       "</div>"
      ],
      "text/plain": [
       "       The size of the urban population  \\\n",
       "count                         46.000000   \n",
       "mean                          56.260870   \n",
       "std                           15.747218   \n",
       "min                           27.000000   \n",
       "25%                           44.250000   \n",
       "50%                           55.000000   \n",
       "75%                           65.000000   \n",
       "max                           87.000000   \n",
       "\n",
       "       The reciprocal of the number of births to women between 45 to 49  \\\n",
       "count                                          46.000000                  \n",
       "mean                                           41.476087                  \n",
       "std                                             7.044342                  \n",
       "min                                            31.200000                  \n",
       "25%                                            35.625000                  \n",
       "50%                                            42.250000                  \n",
       "75%                                            45.825000                  \n",
       "max                                            56.100000                  \n",
       "\n",
       "       The consumption of wine per capita  \\\n",
       "count                           46.000000   \n",
       "mean                            11.586957   \n",
       "std                              6.920424   \n",
       "min                              2.000000   \n",
       "25%                              6.250000   \n",
       "50%                             10.000000   \n",
       "75%                             15.750000   \n",
       "max                             31.000000   \n",
       "\n",
       "       The consumption of hard liquor per capita  \\\n",
       "count                                  46.000000   \n",
       "mean                                   57.500000   \n",
       "std                                    22.140712   \n",
       "min                                    26.000000   \n",
       "25%                                    41.500000   \n",
       "50%                                    56.000000   \n",
       "75%                                    68.750000   \n",
       "max                                   149.000000   \n",
       "\n",
       "       The death rate from cirrhosis  \n",
       "count                      46.000000  \n",
       "mean                       63.493478  \n",
       "std                        23.447979  \n",
       "min                        28.000000  \n",
       "25%                        48.900000  \n",
       "50%                        57.650000  \n",
       "75%                        75.700000  \n",
       "max                       129.900000  "
      ]
     },
     "execution_count": 20,
     "metadata": {},
     "output_type": "execute_result"
    }
   ],
   "source": [
    "df.describe()"
   ]
  },
  {
   "cell_type": "markdown",
   "metadata": {},
   "source": [
    "# Visual Inspection of the data\n",
    "\n"
   ]
  },
  {
   "cell_type": "code",
   "execution_count": 21,
   "metadata": {},
   "outputs": [
    {
     "data": {
      "text/plain": [
       "<matplotlib.axes._subplots.AxesSubplot at 0x1e90466b438>"
      ]
     },
     "execution_count": 21,
     "metadata": {},
     "output_type": "execute_result"
    },
    {
     "data": {
      "image/png": "[encoded data removed]",
      "text/plain": [
       "<Figure size 432x288 with 1 Axes>"
      ]
     },
     "metadata": {
      "needs_background": "light"
     },
     "output_type": "display_data"
    }
   ],
   "source": [
    "import seaborn as sns\n",
    "\n",
    "sns.boxplot(data=df)"
   ]
  },
  {
   "cell_type": "code",
   "execution_count": 22,
   "metadata": {},
   "outputs": [
    {
     "data": {
      "text/plain": [
       "<seaborn.axisgrid.PairGrid at 0x1e90466b048>"
      ]
     },
     "execution_count": 22,
     "metadata": {},
     "output_type": "execute_result"
    },
    {
     "data": {
      "image/png": "[encoded data removed]",
      "text/plain": [
       "<Figure size 900x900 with 30 Axes>"
      ]
     },
     "metadata": {
      "needs_background": "light"
     },
     "output_type": "display_data"
    }
   ],
   "source": [
    "import seaborn as sns\n",
    "sns.pairplot(df)"
   ]
  },
  {
   "cell_type": "markdown",
   "metadata": {},
   "source": [
    "The above plots show us histograms of each dataset, and scatterplots of their relationships between each other.\n",
    "\n",
    "The variable we want to predict (y) have a relationship with the X variable which is positive relationship. \n",
    "\n",
    "From the above histogram and scatterplots, we can see there are few outliers which are not have big effect for the dataset.The data distributed shows as right skewed which mean is greater than the median."
   ]
  },
  {
   "cell_type": "markdown",
   "metadata": {},
   "source": [
    "# Tables of Regression Results\n",
    "\n"
   ]
  },
  {
   "cell_type": "code",
   "execution_count": 23,
   "metadata": {},
   "outputs": [
    {
     "name": "stdout",
     "output_type": "stream",
     "text": [
      "                                  OLS Regression Results                                 \n",
      "=========================================================================================\n",
      "Dep. Variable:     The death rate from cirrhosis   R-squared:                       0.713\n",
      "Model:                                       OLS   Adj. R-squared:                  0.707\n",
      "Method:                            Least Squares   F-statistic:                     109.5\n",
      "Date:                           Tue, 30 Apr 2019   Prob (F-statistic):           1.62e-13\n",
      "Time:                                   20:27:52   Log-Likelihood:                -181.15\n",
      "No. Observations:                             46   AIC:                             366.3\n",
      "Df Residuals:                                 44   BIC:                             369.9\n",
      "Df Model:                                      1                                         \n",
      "Covariance Type:                       nonrobust                                         \n",
      "======================================================================================================\n",
      "                                         coef    std err          t      P>|t|      [0.025      0.975]\n",
      "------------------------------------------------------------------------------------------------------\n",
      "const                                 30.3347      3.680      8.243      0.000      22.918      37.752\n",
      "The consumption of wine per capita     2.8617      0.273     10.465      0.000       2.311       3.413\n",
      "==============================================================================\n",
      "Omnibus:                        4.860   Durbin-Watson:                   2.145\n",
      "Prob(Omnibus):                  0.088   Jarque-Bera (JB):                4.356\n",
      "Skew:                          -0.754   Prob(JB):                        0.113\n",
      "Kurtosis:                       2.978   Cond. No.                         26.6\n",
      "==============================================================================\n",
      "\n",
      "Warnings:\n",
      "[1] Standard Errors assume that the covariance matrix of the errors is correctly specified.\n"
     ]
    }
   ],
   "source": [
    "model = sm.OLS(df['The death rate from cirrhosis'], sm.add_constant(df['The consumption of wine per capita']))\n",
    "results = model.fit()\n",
    "print(results.summary())"
   ]
  },
  {
   "cell_type": "markdown",
   "metadata": {},
   "source": []
  },
  {
   "cell_type": "code",
   "execution_count": 24,
   "metadata": {},
   "outputs": [
    {
     "name": "stdout",
     "output_type": "stream",
     "text": [
      "                                  OLS Regression Results                                 \n",
      "=========================================================================================\n",
      "Dep. Variable:     The death rate from cirrhosis   R-squared:                       0.465\n",
      "Model:                                       OLS   Adj. R-squared:                  0.453\n",
      "Method:                            Least Squares   F-statistic:                     38.26\n",
      "Date:                           Tue, 30 Apr 2019   Prob (F-statistic):           1.80e-07\n",
      "Time:                                   20:27:52   Log-Likelihood:                -195.50\n",
      "No. Observations:                             46   AIC:                             395.0\n",
      "Df Residuals:                                 44   BIC:                             398.6\n",
      "Df Model:                                      1                                         \n",
      "Covariance Type:                       nonrobust                                         \n",
      "=============================================================================================================\n",
      "                                                coef    std err          t      P>|t|      [0.025      0.975]\n",
      "-------------------------------------------------------------------------------------------------------------\n",
      "const                                        21.9649      7.185      3.057      0.004       7.485      36.445\n",
      "The consumption of hard liquor per capita     0.7222      0.117      6.185      0.000       0.487       0.958\n",
      "==============================================================================\n",
      "Omnibus:                        2.444   Durbin-Watson:                   2.233\n",
      "Prob(Omnibus):                  0.295   Jarque-Bera (JB):                1.514\n",
      "Skew:                           0.396   Prob(JB):                        0.469\n",
      "Kurtosis:                       3.404   Cond. No.                         173.\n",
      "==============================================================================\n",
      "\n",
      "Warnings:\n",
      "[1] Standard Errors assume that the covariance matrix of the errors is correctly specified.\n"
     ]
    }
   ],
   "source": [
    "model = sm.OLS(df['The death rate from cirrhosis'], sm.add_constant(df['The consumption of hard liquor per capita']))\n",
    "results = model.fit()\n",
    "print(results.summary())"
   ]
  },
  {
   "cell_type": "code",
   "execution_count": 32,
   "metadata": {},
   "outputs": [],
   "source": [
    "df = df.rename(columns={'The death rate from cirrhosis': 'y', \n",
    "                        'The consumption of wine per capita': 'x1','The consumption of hard liquor per capita': 'x2'})\n"
   ]
  },
  {
   "cell_type": "code",
   "execution_count": 33,
   "metadata": {},
   "outputs": [
    {
     "name": "stdout",
     "output_type": "stream",
     "text": [
      "                            OLS Regression Results                            \n",
      "==============================================================================\n",
      "Dep. Variable:                      y   R-squared:                       0.736\n",
      "Model:                            OLS   Adj. R-squared:                  0.724\n",
      "Method:                 Least Squares   F-statistic:                     59.97\n",
      "Date:                Tue, 30 Apr 2019   Prob (F-statistic):           3.64e-13\n",
      "Time:                        20:34:45   Log-Likelihood:                -179.25\n",
      "No. Observations:                  46   AIC:                             364.5\n",
      "Df Residuals:                      43   BIC:                             370.0\n",
      "Df Model:                           2                                         \n",
      "Covariance Type:            nonrobust                                         \n",
      "==============================================================================\n",
      "                 coef    std err          t      P>|t|      [0.025      0.975]\n",
      "------------------------------------------------------------------------------\n",
      "Intercept     23.3077      5.109      4.562      0.000      13.005      33.611\n",
      "x1             2.3934      0.360      6.645      0.000       1.667       3.120\n",
      "x2             0.2166      0.113      1.924      0.061      -0.010       0.444\n",
      "==============================================================================\n",
      "Omnibus:                        2.769   Durbin-Watson:                   2.295\n",
      "Prob(Omnibus):                  0.251   Jarque-Bera (JB):                2.472\n",
      "Skew:                          -0.559   Prob(JB):                        0.291\n",
      "Kurtosis:                       2.804   Cond. No.                         177.\n",
      "==============================================================================\n",
      "\n",
      "Warnings:\n",
      "[1] Standard Errors assume that the covariance matrix of the errors is correctly specified.\n"
     ]
    }
   ],
   "source": [
    "model = smf.ols(formula=\"y ~ x1 + x2\",data=df)\n",
    "results = model.fit()\n",
    "print(results.summary())"
   ]
  },
  {
   "cell_type": "markdown",
   "metadata": {},
   "source": [
    "# Analysis, Qualitative and Quantitative\n",
    "\n",
    "The above result shows that there is strong positive relationship among the death rate from Cirrhosis, the consumption of wine per capita and the consumption of hard liquor per capita. The more you drink, the higher chance you will get Cirrhosis.\n",
    "\n",
    "\n"
   ]
  },
  {
   "cell_type": "markdown",
   "metadata": {},
   "source": [
    "# Final Conclusions\n",
    "\n",
    "In the end, for the wine, we reject the null hypothesis; for the hard liquor, we accept the null hypothesis. Because \n",
    "\n"
   ]
  },
  {
   "cell_type": "markdown",
   "metadata": {},
   "source": [
    "# Appendix\n",
    "\n",
    "An appendix is unnecessary, but this is where you might add any ancilary information.\n",
    "\n",
    "In this case, I'm showing how we got the seed for numpy's pseudo-random number generator."
   ]
  },
  {
   "cell_type": "code",
   "execution_count": 31,
   "metadata": {},
   "outputs": [
    {
     "name": "stdout",
     "output_type": "stream",
     "text": [
      "278\n",
      "                            OLS Regression Results                            \n",
      "==============================================================================\n",
      "Dep. Variable:                      y   R-squared:                       0.167\n",
      "Model:                            OLS   Adj. R-squared:                  0.138\n",
      "Method:                 Least Squares   F-statistic:                     5.623\n",
      "Date:                Mon, 29 Apr 2019   Prob (F-statistic):             0.0248\n",
      "Time:                        23:40:53   Log-Likelihood:                -34.041\n",
      "No. Observations:                  30   AIC:                             72.08\n",
      "Df Residuals:                      28   BIC:                             74.88\n",
      "Df Model:                           1                                         \n",
      "Covariance Type:            nonrobust                                         \n",
      "==============================================================================\n",
      "                 coef    std err          t      P>|t|      [0.025      0.975]\n",
      "------------------------------------------------------------------------------\n",
      "const          0.4052      0.143      2.830      0.009       0.112       0.699\n",
      "x1             0.5019      0.212      2.371      0.025       0.068       0.935\n",
      "==============================================================================\n",
      "Omnibus:                        2.146   Durbin-Watson:                   1.858\n",
      "Prob(Omnibus):                  0.342   Jarque-Bera (JB):                1.487\n",
      "Skew:                          -0.545   Prob(JB):                        0.475\n",
      "Kurtosis:                       2.990   Cond. No.                         1.50\n",
      "==============================================================================\n",
      "\n",
      "Warnings:\n",
      "[1] Standard Errors assume that the covariance matrix of the errors is correctly specified.\n"
     ]
    }
   ],
   "source": [
    "import numpy as np\n",
    "import pandas as pd\n",
    "import statsmodels.api as sm\n",
    "\n",
    "def get_df():\n",
    "    for i in range(10000):\n",
    "        np.random.seed(i)\n",
    "        df = pd.DataFrame.from_records(np.random.normal(0, 1, (30, 3)), columns=['y', 'x1', 'x2'])\n",
    "        model = sm.OLS(df['y'], sm.add_constant(df['x1']))\n",
    "        results = model.fit()\n",
    "        if results.pvalues.const < .05 and results.pvalues.x1 < .05:\n",
    "            print(i)\n",
    "            print(results.summary())\n",
    "            return df\n",
    "\n",
    "df = get_df()\n"
   ]
  }
 ],
 "metadata": {
  "kernelspec": {
   "display_name": "Python 3",
   "language": "python",
   "name": "python3"
  },
  "language_info": {
   "codemirror_mode": {
    "name": "ipython",
    "version": 3
   },
   "file_extension": ".py",
   "mimetype": "text/x-python",
   "name": "python",
   "nbconvert_exporter": "python",
   "pygments_lexer": "ipython3",
   "version": "3.7.1"
  }
 },
 "nbformat": 4,
 "nbformat_minor": 2
}
